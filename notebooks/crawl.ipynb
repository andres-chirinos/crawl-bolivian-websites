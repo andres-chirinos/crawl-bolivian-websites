{
 "cells": [
  {
   "cell_type": "code",
   "execution_count": null,
   "id": "ac17a6ea",
   "metadata": {},
   "outputs": [],
   "source": [
    "!pip install docker pandas"
   ]
  },
  {
   "cell_type": "code",
   "execution_count": 2,
   "id": "1e55b613",
   "metadata": {},
   "outputs": [
    {
     "name": "stdout",
     "output_type": "stream",
     "text": [
      "[<Container: c1240976b774>, <Container: 3cae7e00c508>, <Container: 40ff65947c29>, <Container: b150c5075120>, <Container: 71b46f87db7b>, <Container: b7436c433ff9>, <Container: af995a51e9dd>, <Container: 2cf8c0985868>, <Container: 96b7760c1605>, <Container: 3759e096be4e>, <Container: 57667dd05bc9>, <Container: 865931dafb0c>, <Container: 15bfe4e011dc>, <Container: 1045d898c339>, <Container: a0c8ab42d5de>, <Container: 34e8f993857b>, <Container: a126c9a346ba>, <Container: c28331acaa87>, <Container: b33844811935>, <Container: 7bdac95bdf74>, <Container: 3c1c1327764e>, <Container: d649bd564a06>, <Container: 814022a11c16>, <Container: 1b632b848342>, <Container: 7a19f5d91b04>, <Container: cdf7f2bc0299>, <Container: db9c654c3001>, <Container: 3e2c26e396eb>]\n",
      "amazing_blackburn running\n",
      "sociest-odoo-odoo-1 running\n",
      "sociest-odoo-postgresql-1 running\n",
      "jupyter_server running\n",
      "docker-frontend-1 running\n",
      "docker-app-1 running\n",
      "docker-redis-1 running\n",
      "docker-postgres-1 running\n",
      "grafana running\n",
      "node-exporter running\n",
      "dataumsa-exporter running\n",
      "prometheus running\n",
      "kobofe-beat-1 running\n",
      "kobofe-worker-1 running\n",
      "kobofe-worker_low_priority-1 running\n",
      "kobofe-kpi-1 running\n",
      "kobofe-enketo_express-1 running\n",
      "kobofe-worker_kobocat-1 running\n",
      "kobofe-nginx-1 running\n",
      "kobobe-redis_main-1 running\n",
      "kobobe-postgres-1 running\n",
      "kobobe-mongo-1 running\n",
      "kobobe-redis_cache-1 running\n",
      "next_censo_app running\n",
      "portainer running\n",
      "api-app-1 running\n",
      "api-redis-1 running\n",
      "nginx-proxy-manager2 running\n"
     ]
    }
   ],
   "source": [
    "import docker\n",
    "\n",
    "client = docker.from_env()\n",
    "print(client.containers.list())\n",
    "\n",
    "# Probar si funciona\n",
    "for container in client.containers.list():\n",
    "    print(container.name, container.status)\n"
   ]
  },
  {
   "cell_type": "code",
   "execution_count": 7,
   "id": "c2dc6758",
   "metadata": {},
   "outputs": [
    {
     "data": {
      "application/vnd.microsoft.datawrangler.viewer.v0+json": {
       "columns": [
        {
         "name": "index",
         "rawType": "int64",
         "type": "integer"
        },
        {
         "name": "nombre",
         "rawType": "object",
         "type": "string"
        },
        {
         "name": "sitioweb",
         "rawType": "object",
         "type": "string"
        },
        {
         "name": "sigla",
         "rawType": "object",
         "type": "string"
        }
       ],
       "ref": "606da707-e792-426b-8ca8-a50da699d032",
       "rows": [
        [
         "0",
         "Vicepresidencia del Estado Plurinacional",
         "https://www.vicepresidencia.gob.bo",
         "VPEP"
        ],
        [
         "1",
         "Ministerio de Relaciones Exteriores",
         "https://www.cancilleria.gob.bo",
         "MIN-RREE"
        ],
        [
         "2",
         "Ministerio de Gobierno",
         "http://www.mingobierno.gob.bo",
         "MIN-GOB"
        ],
        [
         "3",
         "Ministerio de Educación",
         "https://www.minedu.gob.bo",
         "MIN-EDU"
        ],
        [
         "4",
         "Ministerio de Defensa",
         "https://www.mindef.gob.bo",
         "MIN-DEF"
        ],
        [
         "5",
         "Ministerio de la Presidencia",
         "https://www.presidencia.gob.bo",
         "MIN-PRES"
        ],
        [
         "6",
         "Ministerio de Justicia y Transparencia Institucional",
         "https://www.justicia.gob.bo",
         "MIN-JTI"
        ],
        [
         "7",
         "Ministerio de Economía y Finanzas Públicas",
         "https://www.economiayfinanzas.gob.bo",
         "MIN-EFP"
        ],
        [
         "8",
         "Ministerio de Desarrollo Productivo y Economía Plural",
         "https://produccion.gob.bo",
         "MIN-DPEP"
        ],
        [
         "9",
         "Ministerio de Salud y Deportes",
         "https://www.minsalud.gob.bo",
         "MIN-SAL"
        ],
        [
         "10",
         "Ministerio de Desarrollo Rural y Tierras",
         "https://www.ruralytierras.gob.bo",
         "MIN-DRT"
        ],
        [
         "11",
         "Ministerio de Culturas, Descolonización y Despatriarcalización",
         "http://www.minculturas.gob.bo",
         "MIN-CULT"
        ],
        [
         "12",
         "Ministerio de Planificación del Desarrollo",
         "http://www.planificacion.gob.bo",
         "MIN-PD"
        ],
        [
         "13",
         "Ministerio de Trabajo, Empleo y Previsión Social",
         "https://www.mintrabajo.gob.bo",
         "MIN-TEPS"
        ],
        [
         "14",
         "Ministerio de Minería y Metalurgia",
         "http://www.mineria.gob.bo",
         "MIN-MM"
        ],
        [
         "15",
         "Ministerio de Hidrocarburos y Energías",
         "https://www.hidrocarburos.gob.bo",
         "MIN-H"
        ],
        [
         "16",
         "Ministerio de Obras Públicas, Servicios y Vivienda",
         "https://www.oopp.gob.bo",
         "MIN-OPSV"
        ],
        [
         "17",
         "Ministerio de Energías (Inactiva)",
         "https://www.minenergias.gob.bo",
         "MIN-ENER"
        ],
        [
         "18",
         "Ministerio de Medio Ambiente y Agua",
         "https://www.mmaya.gob.bo",
         "MIN-MAA"
        ],
        [
         "19",
         "Ministerio de Cultura, descolonizacion y despatriarcalizacion",
         "https://comunicacion.gob.bo",
         "MIN-CUL"
        ],
        [
         "20",
         "Registro Internacional Boliviano de Buques",
         "https://www.ribb.gob.bo",
         "RIBB"
        ],
        [
         "21",
         "Gaceta Oficial de Bolivia",
         "http://www.gacetaoficialdebolivia.gob.bo",
         "GACETA"
        ],
        [
         "22",
         "Unidad de Proyectos Especiales",
         "https://www.upre.gob.bo",
         "UPRE"
        ],
        [
         "23",
         "Unidad Ejecutora del Fondo Nacional de Solidaridad y Equidad",
         "https://fnse.gob.bo",
         "UE-FNSE"
        ],
        [
         "24",
         "Servicio Nacional de Patrimonio del Estado",
         "https://www.senape.gob.bo",
         "SENAPE"
        ],
        [
         "25",
         "Servicio Nacional del Sistema de Reparto",
         "https://www.senasir.gob.bo",
         "SENASIR"
        ],
        [
         "26",
         "Unidad de Coordinación de Programas y Proyectos",
         "http://www.ucpp.gob.bo",
         "UCPP"
        ],
        [
         "27",
         "Servicio Nacional de Propiedad Intelectual",
         "https://www.senapi.gob.bo",
         "SENAPI"
        ],
        [
         "28",
         "Instituto Boliviano de Metrología",
         "http://www.ibmetro.gob.bo",
         "IBMETRO"
        ],
        [
         "29",
         "Servicio Nacional de Verificación de Exportaciones",
         "https://www.senavex.gob.bo",
         "SENAVEX"
        ],
        [
         "30",
         "Pro - Bolivia",
         "https://www.probolivia.gob.bo",
         "PRO-BOL"
        ],
        [
         "31",
         "Centro Nacional de Enfermedades Tropicales",
         "http://www.cenetrop.org.bo",
         "CENETROP"
        ],
        [
         "32",
         "Instituto Nacional de Laboratorios de Salud",
         "https://www.inlasa.gob.bo",
         "INLASA"
        ],
        [
         "33",
         "Escuela de Salud La Paz",
         "https://ens.minsalud.gob.bo",
         "ESLP"
        ],
        [
         "34",
         "Escuela de Salud Cochabamba",
         "https://ens.minsalud.gob.bo",
         "ESCBBA"
        ],
        [
         "35",
         "Agencia Estatal de Medicamentos y Tecnologías en Salud",
         "http://agemed.minsalud.gob.bo",
         "AGEMED"
        ],
        [
         "36",
         "Servicio Nacional de Áreas Protegidas",
         "http://sernap.gob.bo",
         "SERNAP"
        ],
        [
         "37",
         "Unidad Operativa Boliviana",
         "https://uob-tdps.gob.bo",
         "UOB"
        ],
        [
         "38",
         "Servicio Nacional de Sanidad Agropecuaria e Inocuidad Alimentaria",
         "https://www.senasag.gob.bo",
         "SENASAG"
        ],
        [
         "39",
         "Fondo Nacional de Desarrollo Integral",
         "https://fonadin.gob.bo",
         "FONADIN"
        ],
        [
         "40",
         "Institución Pública Desconcentrada Soberanía Alimentaria",
         "https://www.soberaniaalimentaria.gob.bo",
         "SOBAL"
        ],
        [
         "41",
         "Centro de Comunicaciones La Paz",
         "https://www.cclp.gob.bo",
         "CCLP"
        ],
        [
         "42",
         "Administradora de Terminal Terrestre Santa Cruz",
         "https://administradora-de-terminal-terrestre-santa-cruz.negocio.site/",
         "ATTSC"
        ],
        [
         "43",
         "Entidad Ejecutora de Conversión a Gas Natural Vehicular",
         "https://www.eecgnv.gob.bo",
         "EEC-GNV"
        ],
        [
         "44",
         "Órgano Judicial",
         "https://www.organojudicial.gob.bo",
         "OJ"
        ],
        [
         "45",
         "Tribunal Constitucional Plurinacional",
         "https://tcpbolivia.bo",
         "TCP"
        ],
        [
         "46",
         "Órgano Electoral Plurinacional",
         "https://www.oep.org.bo",
         "OEP"
        ],
        [
         "47",
         "Contraloría General del Estado",
         "https://www.contraloria.gob.bo",
         "CGE"
        ],
        [
         "48",
         "Ministerio Público",
         "https://www.fiscalia.gob.bo",
         "MINPUB"
        ],
        [
         "49",
         "Defensoría del Pueblo",
         "http://www.defensoria.gob.bo",
         "DP"
        ]
       ],
       "shape": {
        "columns": 3,
        "rows": 393
       }
      },
      "text/html": [
       "<div>\n",
       "<style scoped>\n",
       "    .dataframe tbody tr th:only-of-type {\n",
       "        vertical-align: middle;\n",
       "    }\n",
       "\n",
       "    .dataframe tbody tr th {\n",
       "        vertical-align: top;\n",
       "    }\n",
       "\n",
       "    .dataframe thead th {\n",
       "        text-align: right;\n",
       "    }\n",
       "</style>\n",
       "<table border=\"1\" class=\"dataframe\">\n",
       "  <thead>\n",
       "    <tr style=\"text-align: right;\">\n",
       "      <th></th>\n",
       "      <th>nombre</th>\n",
       "      <th>sitioweb</th>\n",
       "      <th>sigla</th>\n",
       "    </tr>\n",
       "  </thead>\n",
       "  <tbody>\n",
       "    <tr>\n",
       "      <th>0</th>\n",
       "      <td>Vicepresidencia del Estado Plurinacional</td>\n",
       "      <td>https://www.vicepresidencia.gob.bo</td>\n",
       "      <td>VPEP</td>\n",
       "    </tr>\n",
       "    <tr>\n",
       "      <th>1</th>\n",
       "      <td>Ministerio de Relaciones Exteriores</td>\n",
       "      <td>https://www.cancilleria.gob.bo</td>\n",
       "      <td>MIN-RREE</td>\n",
       "    </tr>\n",
       "    <tr>\n",
       "      <th>2</th>\n",
       "      <td>Ministerio de Gobierno</td>\n",
       "      <td>http://www.mingobierno.gob.bo</td>\n",
       "      <td>MIN-GOB</td>\n",
       "    </tr>\n",
       "    <tr>\n",
       "      <th>3</th>\n",
       "      <td>Ministerio de Educación</td>\n",
       "      <td>https://www.minedu.gob.bo</td>\n",
       "      <td>MIN-EDU</td>\n",
       "    </tr>\n",
       "    <tr>\n",
       "      <th>4</th>\n",
       "      <td>Ministerio de Defensa</td>\n",
       "      <td>https://www.mindef.gob.bo</td>\n",
       "      <td>MIN-DEF</td>\n",
       "    </tr>\n",
       "    <tr>\n",
       "      <th>...</th>\n",
       "      <td>...</td>\n",
       "      <td>...</td>\n",
       "      <td>...</td>\n",
       "    </tr>\n",
       "    <tr>\n",
       "      <th>388</th>\n",
       "      <td>Universidad Andina Simón Bolivar</td>\n",
       "      <td>https://www.uasb.edu.bo/</td>\n",
       "      <td>UASB</td>\n",
       "    </tr>\n",
       "    <tr>\n",
       "      <th>389</th>\n",
       "      <td>Universidad Pedagógica</td>\n",
       "      <td>http://www.upedagogica.edu.bo/</td>\n",
       "      <td>UNIPED</td>\n",
       "    </tr>\n",
       "    <tr>\n",
       "      <th>390</th>\n",
       "      <td>Valores Unión S.A. Agencia de Bolsa</td>\n",
       "      <td>https://www.valoresunion.com.bo/</td>\n",
       "      <td>UNION-AB</td>\n",
       "    </tr>\n",
       "    <tr>\n",
       "      <th>391</th>\n",
       "      <td>Centro de la Cultura Plurinacional (Santa Cruz)</td>\n",
       "      <td>http://www.fundacionculturalbcb.gob.bo/Q-CCP.html</td>\n",
       "      <td>RN-CCP</td>\n",
       "    </tr>\n",
       "    <tr>\n",
       "      <th>392</th>\n",
       "      <td>Asociación de Gobiernos Municipales de Santa Cruz</td>\n",
       "      <td>http://amdecruz.com/</td>\n",
       "      <td>AMDECRUZ</td>\n",
       "    </tr>\n",
       "  </tbody>\n",
       "</table>\n",
       "<p>393 rows × 3 columns</p>\n",
       "</div>"
      ],
      "text/plain": [
       "                                                nombre  \\\n",
       "0             Vicepresidencia del Estado Plurinacional   \n",
       "1                  Ministerio de Relaciones Exteriores   \n",
       "2                               Ministerio de Gobierno   \n",
       "3                              Ministerio de Educación   \n",
       "4                                Ministerio de Defensa   \n",
       "..                                                 ...   \n",
       "388                   Universidad Andina Simón Bolivar   \n",
       "389                             Universidad Pedagógica   \n",
       "390                Valores Unión S.A. Agencia de Bolsa   \n",
       "391    Centro de la Cultura Plurinacional (Santa Cruz)   \n",
       "392  Asociación de Gobiernos Municipales de Santa Cruz   \n",
       "\n",
       "                                              sitioweb     sigla  \n",
       "0                   https://www.vicepresidencia.gob.bo      VPEP  \n",
       "1                       https://www.cancilleria.gob.bo  MIN-RREE  \n",
       "2                        http://www.mingobierno.gob.bo   MIN-GOB  \n",
       "3                            https://www.minedu.gob.bo   MIN-EDU  \n",
       "4                            https://www.mindef.gob.bo   MIN-DEF  \n",
       "..                                                 ...       ...  \n",
       "388                           https://www.uasb.edu.bo/      UASB  \n",
       "389                     http://www.upedagogica.edu.bo/    UNIPED  \n",
       "390                   https://www.valoresunion.com.bo/  UNION-AB  \n",
       "391  http://www.fundacionculturalbcb.gob.bo/Q-CCP.html    RN-CCP  \n",
       "392                               http://amdecruz.com/  AMDECRUZ  \n",
       "\n",
       "[393 rows x 3 columns]"
      ]
     },
     "execution_count": 7,
     "metadata": {},
     "output_type": "execute_result"
    }
   ],
   "source": [
    "import subprocess, threading\n",
    "import schedule, docker\n",
    "import pandas as pd\n",
    "import time, re\n",
    "from datetime import datetime\n",
    "import concurrent.futures\n",
    "\n",
    "# Semáforo para limitar el número de contenedores en paralelo\n",
    "docker_semaphore = threading.Semaphore(1)  # máximo 8 contenedores simultáneos\n",
    "\n",
    "# Carpeta donde se guardarán los WACZ\n",
    "OUTPUT_DIR = \"./data2\"\n",
    "\n",
    "df = pd.read_csv(\"datos_entidades_sitiosweb_editados.csv\")\n",
    "df"
   ]
  },
  {
   "cell_type": "code",
   "execution_count": null,
   "id": "3ae0b6c7",
   "metadata": {},
   "outputs": [
    {
     "name": "stdout",
     "output_type": "stream",
     "text": [
      "[20250819_034819] ✅ Nuevo job agregado a la cola (pendientes: 1)\n",
      "\n",
      "[20250819_034819] 🚀 Iniciando crawl de lote (396 sitios)...\n"
     ]
    },
    {
     "ename": "KeyboardInterrupt",
     "evalue": "",
     "output_type": "error",
     "traceback": [
      "\u001b[0;31m---------------------------------------------------------------------------\u001b[0m",
      "\u001b[0;31mKeyboardInterrupt\u001b[0m                         Traceback (most recent call last)",
      "Cell \u001b[0;32mIn[9], line 101\u001b[0m\n\u001b[1;32m     99\u001b[0m \u001b[38;5;28;01mwhile\u001b[39;00m \u001b[38;5;28;01mTrue\u001b[39;00m:\n\u001b[1;32m    100\u001b[0m     schedule\u001b[38;5;241m.\u001b[39mrun_pending()\n\u001b[0;32m--> 101\u001b[0m     time\u001b[38;5;241m.\u001b[39msleep(\u001b[38;5;241m1\u001b[39m)\n",
      "\u001b[0;31mKeyboardInterrupt\u001b[0m: "
     ]
    }
   ],
   "source": [
    "import subprocess, threading, queue\n",
    "import schedule, time, re\n",
    "from datetime import datetime\n",
    "import concurrent.futures\n",
    "\n",
    "# Cola global para los trabajos\n",
    "job_queue = queue.Queue()\n",
    "\n",
    "# Semáforo para limitar contenedores simultáneos dentro de un job\n",
    "docker_semaphore = threading.Semaphore(3)  # máx. 8 contenedores en paralelo\n",
    "\n",
    "# Carpeta de salida\n",
    "OUTPUT_DIR = \"./data2\"\n",
    "\n",
    "# Lista de sitios a seguir\n",
    "URLS = df['sitioweb'].tolist()\n",
    "URLS.extend([\n",
    "    \"https://computo.oep.org.bo\",\n",
    "    \"https://sirepre.oep.org.bo\",\n",
    "    \"https://www.gob.bo\",\n",
    "])\n",
    "\n",
    "\n",
    "def run_docker_command(cmd, timeout=3600):\n",
    "    \"\"\"Ejecuta un comando docker con timeout y semáforo (máx 8 en paralelo).\"\"\"\n",
    "    with docker_semaphore:\n",
    "        try:\n",
    "            process = subprocess.Popen(cmd, stdout=subprocess.PIPE, stderr=subprocess.STDOUT, text=True)\n",
    "            stdout, _ = process.communicate(timeout=timeout)\n",
    "            return stdout\n",
    "        except subprocess.TimeoutExpired:\n",
    "            process.kill()\n",
    "            return f\"Timeout alcanzado para el comando: {' '.join(cmd)}\"\n",
    "\n",
    "\n",
    "def crawler_job():\n",
    "    \"\"\"Genera un job de crawling y lo mete en la cola.\"\"\"\n",
    "    timestamp = datetime.now().strftime(\"%Y%m%d_%H%M%S\")\n",
    "    job_queue.put((URLS.copy(), timestamp))  # guardamos urls y timestamp\n",
    "    print(f\"[{timestamp}] ✅ Nuevo job agregado a la cola (pendientes: {job_queue.qsize()})\")\n",
    "\n",
    "\n",
    "def worker():\n",
    "    \"\"\"Thread que procesa la cola de jobs de forma secuencial.\"\"\"\n",
    "    while True:\n",
    "        urls, timestamp = job_queue.get()  # espera hasta que haya trabajo\n",
    "        print(f\"\\n[{timestamp}] 🚀 Iniciando crawl de lote ({len(urls)} sitios)...\")\n",
    "\n",
    "        with concurrent.futures.ThreadPoolExecutor(max_workers=2) as executor:\n",
    "            futures = {}\n",
    "            for url in urls:\n",
    "                safe_name = re.sub(r'[^a-zA-Z0-9_-]', '_', url.replace('https://', '').replace('http://', ''))\n",
    "                collection_name = f\"{safe_name}-{timestamp}\"\n",
    "\n",
    "                cmd = [\n",
    "                    \"docker\", \"run\", \"--rm\",\n",
    "                    \"-v\", f\"{OUTPUT_DIR}:/crawls\",\n",
    "                    \"webrecorder/browsertrix-crawler\",\n",
    "                    \"crawl\",\n",
    "                    \"--url\", url,\n",
    "                    \"--generateWACZ\",\n",
    "                    \"--blockads\", \"--adBlockMessage\", \"AD BLOCKED\",\n",
    "                    \"--blockMessage\", \"URL BLOCKED\",\n",
    "                    \"--allowHashUrls\",\n",
    "                    \"--useSitemap\",\n",
    "                    \"--waitUntil\", \"networkidle0\",\n",
    "                    \"--lang\", \"es\",\n",
    "                    \"--retries\", \"3\",\n",
    "                    \"--postLoadDelay\", \"1\",\n",
    "                    \"--collection\", collection_name,\n",
    "                    \"--workers\", \"4\",\n",
    "                    \"--clickSelector\", \"a\",\n",
    "                    \"--clickSelector\", \"button\"\n",
    "                ]\n",
    "\n",
    "                future = executor.submit(run_docker_command, cmd, 3600)\n",
    "                futures[future] = url\n",
    "\n",
    "            for future in concurrent.futures.as_completed(futures):\n",
    "                url = futures[future]\n",
    "                try:\n",
    "                    result = future.result()\n",
    "                except Exception as exc:\n",
    "                    print(f\"❌ El crawl para {url} generó una excepción: {exc}\")\n",
    "                else:\n",
    "                    print(f\"✅ Resultado para {url}:\\n{result[:300]}...\\n\")  # muestra primeras 300 líneas\n",
    "\n",
    "        print(f\"[{datetime.now().strftime('%Y%m%d_%H%M%S')}] 🏁 Lote terminado.\\n\")\n",
    "        job_queue.task_done()\n",
    "\n",
    "\n",
    "# --- Lanzamos el worker en segundo plano ---\n",
    "threading.Thread(target=worker, daemon=True).start()\n",
    "\n",
    "# Programar ejecución cada 30 minutos\n",
    "schedule.every(30).minutes.do(crawler_job)\n",
    "\n",
    "# Primera ejecución inmediata\n",
    "crawler_job()\n",
    "\n",
    "# Loop infinito\n",
    "while True:\n",
    "    schedule.run_pending()\n",
    "    time.sleep(1)\n"
   ]
  }
 ],
 "metadata": {
  "kernelspec": {
   "display_name": "Python 3 (ipykernel)",
   "language": "python",
   "name": "python3"
  },
  "language_info": {
   "codemirror_mode": {
    "name": "ipython",
    "version": 3
   },
   "file_extension": ".py",
   "mimetype": "text/x-python",
   "name": "python",
   "nbconvert_exporter": "python",
   "pygments_lexer": "ipython3",
   "version": "3.11.6"
  }
 },
 "nbformat": 4,
 "nbformat_minor": 5
}
